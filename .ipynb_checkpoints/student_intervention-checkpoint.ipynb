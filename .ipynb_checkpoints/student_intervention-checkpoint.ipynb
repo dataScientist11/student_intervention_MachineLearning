{
 "cells": [
  {
   "cell_type": "markdown",
   "metadata": {},
   "source": [
    "# Machine Learning Engineer Nanodegree\n",
    "## Supervised Learning\n",
    "## Project 2: Building a Student Intervention System"
   ]
  },
  {
   "cell_type": "markdown",
   "metadata": {},
   "source": [
    "Welcome to the second project of the Machine Learning Engineer Nanodegree! In this notebook, some template code has already been provided for you, and it will be your job to implement the additional functionality necessary to successfully complete this project. Sections that begin with **'Implementation'** in the header indicate that the following block of code will require additional functionality which you must provide. Instructions will be provided for each section and the specifics of the implementation are marked in the code block with a `'TODO'` statement. Please be sure to read the instructions carefully!\n",
    "\n",
    "In addition to implementing code, there will be questions that you must answer which relate to the project and your implementation. Each section where you will answer a question is preceded by a **'Question X'** header. Carefully read each question and provide thorough answers in the following text boxes that begin with **'Answer:'**. Your project submission will be evaluated based on your answers to each of the questions and the implementation you provide.  \n",
    "\n",
    ">**Note:** Code and Markdown cells can be executed using the **Shift + Enter** keyboard shortcut. In addition, Markdown cells can be edited by typically double-clicking the cell to enter edit mode."
   ]
  },
  {
   "cell_type": "markdown",
   "metadata": {},
   "source": [
    "### Question 1 - Classification vs. Regression\n",
    "*Your goal for this project is to identify students who might need early intervention before they fail to graduate. Which type of supervised learning problem is this, classification or regression? Why?*"
   ]
  },
  {
   "cell_type": "markdown",
   "metadata": {},
   "source": [
    "**Answer: ** A regression problem would consists of a solution range, and a classification problem would consist of choices referred to as classes. A machine learning problem where students are to be identified as 'needs intervention' or 'doesn't need intervention' is a classification problem. "
   ]
  },
  {
   "cell_type": "markdown",
   "metadata": {},
   "source": [
    "## Exploring the Data\n",
    "Run the code cell below to load necessary Python libraries and load the student data. Note that the last column from this dataset, `'passed'`, will be our target label (whether the student graduated or didn't graduate). All other columns are features about each student."
   ]
  },
  {
   "cell_type": "code",
   "execution_count": 1,
   "metadata": {
    "collapsed": false
   },
   "outputs": [
    {
     "name": "stdout",
     "output_type": "stream",
     "text": [
      "Student data read successfully!\n"
     ]
    }
   ],
   "source": [
    "# Import libraries\n",
    "import numpy as np\n",
    "import pandas as pd\n",
    "from time import time\n",
    "from sklearn.metrics import f1_score\n",
    "\n",
    "# Read student data\n",
    "student_data = pd.read_csv(\"student-data.csv\")\n",
    "print \"Student data read successfully!\""
   ]
  },
  {
   "cell_type": "markdown",
   "metadata": {},
   "source": [
    "### Implementation: Data Exploration\n",
    "Let's begin by investigating the dataset to determine how many students we have information on, and learn about the graduation rate among these students. In the code cell below, you will need to compute the following:\n",
    "- The total number of students, `n_students`.\n",
    "- The total number of features for each student, `n_features`.\n",
    "- The number of those students who passed, `n_passed`.\n",
    "- The number of those students who failed, `n_failed`.\n",
    "- The graduation rate of the class, `grad_rate`, in percent (%).\n"
   ]
  },
  {
   "cell_type": "code",
   "execution_count": 2,
   "metadata": {
    "collapsed": false
   },
   "outputs": [
    {
     "name": "stdout",
     "output_type": "stream",
     "text": [
      "Total number of students: 395\n",
      "Number of features: 30\n",
      "Number of students who passed: 265\n",
      "Number of students who failed: 130\n",
      "Graduation rate of the class: 67.09%\n"
     ]
    }
   ],
   "source": [
    "# TODO: Calculate number of students\n",
    "n_students = len(student_data[:])\n",
    "\n",
    "# TODO: Calculate number of features\n",
    "n_features = len(student_data.columns[:-1])\n",
    "\n",
    "# TODO: Calculate passing students\n",
    "n_passed = len(student_data[student_data['passed']=='yes'])\n",
    "\n",
    "# TODO: Calculate failing students\n",
    "n_failed = len(student_data[student_data['passed']=='no'])\n",
    "\n",
    "# TODO: Calculate graduation rate\n",
    "grad_rate = (float)(100.00*n_passed/(n_passed+n_failed))\n",
    "\n",
    "# Print the results\n",
    "print \"Total number of students: {}\".format(n_students)\n",
    "print \"Number of features: {}\".format(n_features)\n",
    "print \"Number of students who passed: {}\".format(n_passed)\n",
    "print \"Number of students who failed: {}\".format(n_failed)\n",
    "print \"Graduation rate of the class: {:.2f}%\".format(grad_rate)"
   ]
  },
  {
   "cell_type": "markdown",
   "metadata": {},
   "source": [
    "## Preparing the Data\n",
    "In this section, we will prepare the data for modeling, training and testing.\n",
    "\n",
    "### Identify feature and target columns\n",
    "It is often the case that the data you obtain contains non-numeric features. This can be a problem, as most machine learning algorithms expect numeric data to perform computations with.\n",
    "\n",
    "Run the code cell below to separate the student data into feature and target columns to see if any features are non-numeric."
   ]
  },
  {
   "cell_type": "code",
   "execution_count": 3,
   "metadata": {
    "collapsed": false,
    "scrolled": true
   },
   "outputs": [
    {
     "name": "stdout",
     "output_type": "stream",
     "text": [
      "Feature columns:\n",
      "['school', 'sex', 'age', 'address', 'famsize', 'Pstatus', 'Medu', 'Fedu', 'Mjob', 'Fjob', 'reason', 'guardian', 'traveltime', 'studytime', 'failures', 'schoolsup', 'famsup', 'paid', 'activities', 'nursery', 'higher', 'internet', 'romantic', 'famrel', 'freetime', 'goout', 'Dalc', 'Walc', 'health', 'absences']\n",
      "\n",
      "Target column: passed\n",
      "\n",
      "Feature values:\n",
      "  school sex  age address famsize Pstatus  Medu  Fedu     Mjob      Fjob  \\\n",
      "0     GP   F   18       U     GT3       A     4     4  at_home   teacher   \n",
      "1     GP   F   17       U     GT3       T     1     1  at_home     other   \n",
      "2     GP   F   15       U     LE3       T     1     1  at_home     other   \n",
      "3     GP   F   15       U     GT3       T     4     2   health  services   \n",
      "4     GP   F   16       U     GT3       T     3     3    other     other   \n",
      "\n",
      "    ...    higher internet  romantic  famrel  freetime goout Dalc Walc health  \\\n",
      "0   ...       yes       no        no       4         3     4    1    1      3   \n",
      "1   ...       yes      yes        no       5         3     3    1    1      3   \n",
      "2   ...       yes      yes        no       4         3     2    2    3      3   \n",
      "3   ...       yes      yes       yes       3         2     2    1    1      5   \n",
      "4   ...       yes       no        no       4         3     2    1    2      5   \n",
      "\n",
      "  absences  \n",
      "0        6  \n",
      "1        4  \n",
      "2       10  \n",
      "3        2  \n",
      "4        4  \n",
      "\n",
      "[5 rows x 30 columns]\n"
     ]
    }
   ],
   "source": [
    "# Extract feature columns\n",
    "feature_cols = list(student_data.columns[:-1])\n",
    "\n",
    "# Extract target column 'passed'\n",
    "target_col = student_data.columns[-1] \n",
    "\n",
    "# Show the list of columns\n",
    "print \"Feature columns:\\n{}\".format(feature_cols)\n",
    "print \"\\nTarget column: {}\".format(target_col)\n",
    "\n",
    "# Separate the data into feature data and target data (X_all and y_all, respectively)\n",
    "X_all = student_data[feature_cols]\n",
    "y_all = student_data[target_col]\n",
    "\n",
    "# Show the feature information by printing the first five rows\n",
    "print \"\\nFeature values:\"\n",
    "print X_all.head()"
   ]
  },
  {
   "cell_type": "markdown",
   "metadata": {},
   "source": [
    "### Preprocess Feature Columns\n",
    "\n",
    "As you can see, there are several non-numeric columns that need to be converted! Many of them are simply `yes`/`no`, e.g. `internet`. These can be reasonably converted into `1`/`0` (binary) values.\n",
    "\n",
    "Other columns, like `Mjob` and `Fjob`, have more than two values, and are known as _categorical variables_. The recommended way to handle such a column is to create as many columns as possible values (e.g. `Fjob_teacher`, `Fjob_other`, `Fjob_services`, etc.), and assign a `1` to one of them and `0` to all others.\n",
    "\n",
    "These generated columns are sometimes called _dummy variables_, and we will use the [`pandas.get_dummies()`](http://pandas.pydata.org/pandas-docs/stable/generated/pandas.get_dummies.html?highlight=get_dummies#pandas.get_dummies) function to perform this transformation. Run the code cell below to perform the preprocessing routine discussed in this section."
   ]
  },
  {
   "cell_type": "code",
   "execution_count": 4,
   "metadata": {
    "collapsed": false
   },
   "outputs": [
    {
     "name": "stdout",
     "output_type": "stream",
     "text": [
      "Processed feature columns (48 total features):\n",
      "['school_GP', 'school_MS', 'sex_F', 'sex_M', 'age', 'address_R', 'address_U', 'famsize_GT3', 'famsize_LE3', 'Pstatus_A', 'Pstatus_T', 'Medu', 'Fedu', 'Mjob_at_home', 'Mjob_health', 'Mjob_other', 'Mjob_services', 'Mjob_teacher', 'Fjob_at_home', 'Fjob_health', 'Fjob_other', 'Fjob_services', 'Fjob_teacher', 'reason_course', 'reason_home', 'reason_other', 'reason_reputation', 'guardian_father', 'guardian_mother', 'guardian_other', 'traveltime', 'studytime', 'failures', 'schoolsup', 'famsup', 'paid', 'activities', 'nursery', 'higher', 'internet', 'romantic', 'famrel', 'freetime', 'goout', 'Dalc', 'Walc', 'health', 'absences'] and the length of all new columns are 48\n"
     ]
    }
   ],
   "source": [
    "def preprocess_features(X):\n",
    "    ''' Preprocesses the student data and converts non-numeric binary variables into\n",
    "        binary (0/1) variables. Converts categorical variables into dummy variables. '''\n",
    "    \n",
    "    # Initialize new output DataFrame\n",
    "    output = pd.DataFrame(index = X.index)\n",
    "        #print output\n",
    "    # Investigate each feature column for the data\n",
    "    for col, col_data in X.iteritems():\n",
    "        \n",
    "        # If data type is non-numeric, replace all yes/no values with 1/0\n",
    "        if col_data.dtype == object:\n",
    "            col_data = col_data.replace(['yes', 'no'], [1, 0])\n",
    "\n",
    "        # If data type is categorical, convert to dummy variables\n",
    "        if col_data.dtype == object:\n",
    "            # Example: 'school' => 'school_GP' and 'school_MS'\n",
    "            col_data = pd.get_dummies(col_data, prefix = col)  \n",
    "        \n",
    "        # Collect the revised columns\n",
    "        output = output.join(col_data)\n",
    "    \n",
    "    return output\n",
    "\n",
    "X_all = preprocess_features(X_all)\n",
    "print \"Processed feature columns ({} total features):\\n{} and the length of all new columns are {}\".format(len(X_all.columns), list(X_all.columns), len(X_all.columns))"
   ]
  },
  {
   "cell_type": "markdown",
   "metadata": {},
   "source": [
    "### Implementation: Training and Testing Data Split\n",
    "So far, we have converted all _categorical_ features into numeric values. For the next step, we split the data (both features and corresponding labels) into training and test sets. In the following code cell below, you will need to implement the following:\n",
    "- Randomly shuffle and split the data (`X_all`, `y_all`) into training and testing subsets.\n",
    "  - Use 300 training points (approximately 75%) and 95 testing points (approximately 25%).\n",
    "  - Set a `random_state` for the function(s) you use, if provided.\n",
    "  - Store the results in `X_train`, `X_test`, `y_train`, and `y_test`."
   ]
  },
  {
   "cell_type": "code",
   "execution_count": 5,
   "metadata": {
    "collapsed": false
   },
   "outputs": [
    {
     "name": "stdout",
     "output_type": "stream",
     "text": [
      "Training set has 300 samples.\n",
      "Testing set has 95 samples.\n"
     ]
    }
   ],
   "source": [
    "from numpy import array\n",
    "from sklearn import cross_validation\n",
    "import numpy as np \n",
    "from __future__ import division\n",
    "# TODO: Import any additional functionality you may need here\n",
    "\n",
    "# TODO: Set the number of training points\n",
    "num_train = 300\n",
    "\n",
    "# Set the number of testing points\n",
    "num_test = X_all.shape[0] - num_train\n",
    "testPercentage= float(format(num_test/(num_train+num_test), '.2f'))\n",
    "\n",
    "# TODO: Shuffle and split the dataset into the number of training and testing points above\n",
    "X_train = []\n",
    "y_train=[]\n",
    "X_test=[]\n",
    "y_test=[]\n",
    "rs = cross_validation.ShuffleSplit(n_students, n_iter=1,test_size=testPercentage, random_state=0)\n",
    "for train, test in rs:\n",
    "    for val in train:\n",
    "        X_train.append(X_all.loc[val])\n",
    "        y_train.append(y_all.loc[val])\n",
    "\n",
    "    for val in test:\n",
    "        X_test.append(X_all.loc[val])\n",
    "        y_test.append(y_all.loc[val])\n",
    "# Return the training and testing data subsets\n",
    "X_train = array(X_train)\n",
    "y_train = array(y_train)\n",
    "X_test = array(X_test)\n",
    "y_test = array(y_test)\n",
    "\n",
    "# Show the results of the split\n",
    "print \"Training set has {} samples.\".format(X_train.shape[0])\n",
    "print \"Testing set has {} samples.\".format(X_test.shape[0])"
   ]
  },
  {
   "cell_type": "markdown",
   "metadata": {},
   "source": [
    "## Training and Evaluating Models\n",
    "In this section, you will choose 3 supervised learning models that are appropriate for this problem and available in `scikit-learn`. You will first discuss the reasoning behind choosing these three models by considering what you know about the data and each model's strengths and weaknesses. You will then fit the model to varying sizes of training data (100 data points, 200 data points, and 300 data points) and measure the F<sub>1</sub> score. You will need to produce three tables (one for each model) that shows the training set size, training time, prediction time, F<sub>1</sub> score on the training set, and F<sub>1</sub> score on the testing set."
   ]
  },
  {
   "cell_type": "markdown",
   "metadata": {},
   "source": [
    "### Question 2 - Model Application\n",
    "*List three supervised learning models that are appropriate for this problem. What are the general applications of each model? What are their strengths and weaknesses? Given what you know about the data, why did you choose these models to be applied?*"
   ]
  },
  {
   "cell_type": "markdown",
   "metadata": {},
   "source": [
    "**Answer: ** The three supervised learning models that will be used in this project are Gausian Naive Bayes, support vector classifier, and decision tree classifier. The naive bayes classifiers work well in most real world situations without the need for alot of data. They work faster than other sophisticated methods, due to theoretical reasons which allieve the curse of dimensionality. Nevertheless, they are known to be bad estimators, so outputs from 'predict_proba' should be taken cautiously. I choose gausian naive bayes classifier to allieviate the limited data. More specifically we have 41 features to analyze, coordinated with limited training examples. Next the decision tree advantages are: easy to interpret visually, cost of using tree is logarithmic, can handle both categorical and numerical training data, can handle multi output models. The disadvantages to decision trees include easy overfitting, and the trees could be biased if training examples have dominant classes. I choose decision trees for this model since it flows well after a quick analysis with the naive bayes classifier. Finally the SVC model will be applied with the data. The advantages of support vector machines are: great in high dimensional spaces, effetive when dimensions are greater than number of samples, versatile when kernel functions are applied. The disadvantages of support vector machines are: an expensive five-fold cross-validation must be used to provide probability estimates, and if the number of features are much greater than the number of samples - the performance is poor. I choose support vector classification since we have a high ratio of features to training samples while not having more features than training samples. Furthermore I will share some applicaitions. According to the suggested wikipedia, I found decision tree classifiers have been widely used in IBM SPSS Modeler, RapidMiner, SAS Enterprise Miner, Matlab, and R. These are well known software and I personally have used them as well. For support vector machines, practical applications include protein function prediction, protease functional site recognition, transcription initiation site prediction and gene expression data classification. This hits home because I am a bioengineer by schooling. For Naive Bayes, typical applications include marking an email as spam, classifying a news article, and checking a piece of text expressing positive emotions, or negative emotions, etc.  "
   ]
  },
  {
   "cell_type": "markdown",
   "metadata": {},
   "source": [
    "### Setup\n",
    "Run the code cell below to initialize three helper functions which you can use for training and testing the three supervised learning models you've chosen above. The functions are as follows:\n",
    "- `train_classifier` - takes as input a classifier and training data and fits the classifier to the data.\n",
    "- `predict_labels` - takes as input a fit classifier, features, and a target labeling and makes predictions using the F<sub>1</sub> score.\n",
    "- `train_predict` - takes as input a classifier, and the training and testing data, and performs `train_clasifier` and `predict_labels`.\n",
    " - This function will report the F<sub>1</sub> score for both the training and testing data separately."
   ]
  },
  {
   "cell_type": "code",
   "execution_count": 6,
   "metadata": {
    "collapsed": false
   },
   "outputs": [],
   "source": [
    "def train_classifier(clf, X_train, y_train):\n",
    "    ''' Fits a classifier to the training data. '''\n",
    "    \n",
    "    # Start the clock, train the classifier, then stop the clock\n",
    "    start = time()\n",
    "    clf.fit(X_train, y_train)\n",
    "    end = time()\n",
    "    \n",
    "    # Print the results\n",
    "    print \"Trained model in {:.4f} seconds\".format(end - start)\n",
    "\n",
    "    \n",
    "def predict_labels(clf, features, target):\n",
    "    ''' Makes predictions using a fit classifier based on F1 score. '''\n",
    "    \n",
    "    # Start the clock, make predictions, then stop the clock\n",
    "    start = time()\n",
    "    y_pred = clf.predict(features)\n",
    "    end = time()\n",
    "    \n",
    "    # Print and return results\n",
    "    print \"Made predictions in {:.4f} seconds.\".format(end - start)\n",
    "    return f1_score(target, y_pred, pos_label='yes')\n",
    "\n",
    "\n",
    "def train_predict(clf, X_train, y_train, X_test, y_test):\n",
    "    ''' Train and predict using a classifer based on F1 score. '''\n",
    "    \n",
    "    # Indicate the classifier and the training set size\n",
    "    print \"Training a {} using a training set size of {}. . .\".format(clf.__class__.__name__, len(X_train))\n",
    "    \n",
    "    # Train the classifier\n",
    "    train_classifier(clf, X_train, y_train)\n",
    "    \n",
    "    # Print the results of prediction for both training and testing\n",
    "    print \"F1 score for training set: {:.4f}.\".format(predict_labels(clf, X_train, y_train))\n",
    "    print \"F1 score for test set: {:.4f}.\".format(predict_labels(clf, X_test, y_test))"
   ]
  },
  {
   "cell_type": "markdown",
   "metadata": {},
   "source": [
    "### Implementation: Model Performance Metrics\n",
    "With the predefined functions above, you will now import the three supervised learning models of your choice and run the `train_predict` function for each one. Remember that you will need to train and predict on each classifier for three different training set sizes: 100, 200, and 300. Hence, you should expect to have 9 different outputs below — 3 for each model using the varying training set sizes. In the following code cell, you will need to implement the following:\n",
    "- Import the three supervised learning models you've discussed in the previous section.\n",
    "- Initialize the three models and store them in `clf_A`, `clf_B`, and `clf_C`.\n",
    " - Use a `random_state` for each model you use, if provided.\n",
    " - **Note:** Use the default settings for each model — you will tune one specific model in a later section.\n",
    "- Create the different training set sizes to be used to train each model.\n",
    " - *Do not reshuffle and resplit the data! The new training points should be drawn from `X_train` and `y_train`.*\n",
    "- Fit each model with each training set size and make predictions on the test set (9 in total).  \n",
    "**Note:** Three tables are provided after the following code cell which can be used to store your results."
   ]
  },
  {
   "cell_type": "code",
   "execution_count": 7,
   "metadata": {
    "collapsed": false
   },
   "outputs": [
    {
     "name": "stdout",
     "output_type": "stream",
     "text": [
      "\n",
      "GaussianNB: \n",
      "\n",
      "Training a GaussianNB using a training set size of 100. . .\n",
      "Trained model in 0.0032 seconds\n",
      "Made predictions in 0.0008 seconds.\n",
      "F1 score for training set: 0.8550.\n",
      "Made predictions in 0.0008 seconds.\n",
      "F1 score for test set: 0.7481.\n",
      "--------------------------------\n",
      "Training a GaussianNB using a training set size of 200. . .\n",
      "Trained model in 0.0017 seconds\n",
      "Made predictions in 0.0007 seconds.\n",
      "F1 score for training set: 0.8321.\n",
      "Made predictions in 0.0005 seconds.\n",
      "F1 score for test set: 0.7132.\n",
      "--------------------------------\n",
      "Training a GaussianNB using a training set size of 300. . .\n",
      "Trained model in 0.0017 seconds\n",
      "Made predictions in 0.0008 seconds.\n",
      "F1 score for training set: 0.8088.\n",
      "Made predictions in 0.0005 seconds.\n",
      "F1 score for test set: 0.7500.\n",
      "--------------------------------\n",
      "\n",
      "DecisionTreeClassifier: \n",
      "\n",
      "Training a DecisionTreeClassifier using a training set size of 100. . .\n",
      "Trained model in 0.0017 seconds\n",
      "Made predictions in 0.0002 seconds.\n",
      "F1 score for training set: 1.0000.\n",
      "Made predictions in 0.0002 seconds.\n",
      "F1 score for test set: 0.6942.\n",
      "--------------------------------\n",
      "Training a DecisionTreeClassifier using a training set size of 200. . .\n",
      "Trained model in 0.0035 seconds\n",
      "Made predictions in 0.0003 seconds.\n",
      "F1 score for training set: 1.0000.\n",
      "Made predictions in 0.0002 seconds.\n",
      "F1 score for test set: 0.7132.\n",
      "--------------------------------\n",
      "Training a DecisionTreeClassifier using a training set size of 300. . .\n",
      "Trained model in 0.0045 seconds\n",
      "Made predictions in 0.0003 seconds.\n",
      "F1 score for training set: 1.0000.\n",
      "Made predictions in 0.0002 seconds.\n",
      "F1 score for test set: 0.7167.\n",
      "--------------------------------\n",
      "\n",
      "SVC: \n",
      "\n",
      "Training a SVC using a training set size of 100. . .\n",
      "Trained model in 0.0032 seconds\n",
      "Made predictions in 0.0023 seconds.\n",
      "F1 score for training set: 0.8591.\n",
      "Made predictions in 0.0019 seconds.\n",
      "F1 score for test set: 0.7838.\n",
      "--------------------------------\n",
      "Training a SVC using a training set size of 200. . .\n",
      "Trained model in 0.0092 seconds\n",
      "Made predictions in 0.0070 seconds.\n",
      "F1 score for training set: 0.8693.\n",
      "Made predictions in 0.0033 seconds.\n",
      "F1 score for test set: 0.7755.\n",
      "--------------------------------\n",
      "Training a SVC using a training set size of 300. . .\n",
      "Trained model in 0.0190 seconds\n",
      "Made predictions in 0.0139 seconds.\n",
      "F1 score for training set: 0.8692.\n",
      "Made predictions in 0.0045 seconds.\n",
      "F1 score for test set: 0.7586.\n",
      "--------------------------------\n"
     ]
    }
   ],
   "source": [
    "from sklearn.svm import SVC\n",
    "from sklearn import tree\n",
    "from sklearn.naive_bayes import GaussianNB\n",
    "\n",
    "# # TODO: Initialize the three models\n",
    "# clf_A = GaussianNB()\n",
    "# clf_B = tree.DecisionTreeClassifier()\n",
    "# clf_C = SVC()\n",
    "\n",
    "# def dataSplitter(trainPoints, X_all, y_all):\n",
    "#     # TODO: Set the number of training points\n",
    "#     num_train = trainPoints\n",
    "\n",
    "#     # Set the number of testing points\n",
    "#     num_test = X_all.shape[0] - num_train\n",
    "#     testPercentage= float(format(num_test/(num_train+num_test), '.2f'))\n",
    "\n",
    "#     # TODO: Shuffle and split the dataset into the number of training and testing points above\n",
    "#     X_train = []\n",
    "#     y_train=[]\n",
    "#     X_test=[]\n",
    "#     y_test=[]\n",
    "#     rs = cross_validation.ShuffleSplit(n_students, n_iter=1,test_size=testPercentage, random_state=0)\n",
    "#     for train, test in rs:\n",
    "#         for val in train:\n",
    "#             X_train.append(X_all.loc[val])\n",
    "#             y_train.append(y_all.loc[val])\n",
    "\n",
    "#         for val in test:\n",
    "#             X_test.append(X_all.loc[val])\n",
    "#             y_test.append(y_all.loc[val])\n",
    "#     # Return the training and testing data subsets\n",
    "#     X_train = array(X_train)\n",
    "#     y_train = array(y_train)\n",
    "#     X_test = array(X_test)\n",
    "#     y_test = array(y_test)\n",
    "#     #print len(X_train), len(X_test), len(y_train), len(y_test)\n",
    "#     return X_train, X_test, y_train, y_test\n",
    "    \n",
    "# # TODO: Set up the training set sizes\n",
    "# X_train_100,X_test_100,y_train_100,y_test_100 = dataSplitter(100,X_all,y_all)\n",
    "# #col_data = col_data.replace(['yes', 'no'], [1, 0])\n",
    "\n",
    "# X_train_200,X_test_200,y_train_200,y_test_200 = dataSplitter(200,X_all,y_all)\n",
    "\n",
    "\n",
    "# X_train_300,X_test_300,y_train_300,y_test_300 = dataSplitter(300,X_all,y_all)\n",
    "\n",
    "# train_classifier(clf_A , X_train_100, y_train_100)\n",
    "# predict_labels(clf_A , X_test_100, y_test_100)\n",
    "# train_predict(clf_A , X_train_100, y_train_100, X_test_100, y_test_100)\n",
    "# print '\\n'\n",
    "\n",
    "# train_classifier(clf_A , X_train_200, y_train_200)\n",
    "# predict_labels(clf_A , X_test_200, y_test_200)\n",
    "# train_predict(clf_A , X_train_200, y_train_200, X_test_200, y_test_200)\n",
    "# print '\\n'\n",
    "\n",
    "# train_classifier(clf_A , X_train_300, y_train_300)\n",
    "# predict_labels(clf_A , X_test_300, y_test_300)\n",
    "# train_predict(clf_A , X_train_300, y_train_300, X_test_300, y_test_300)\n",
    "\n",
    "# print '\\n\\n'\n",
    "# train_classifier(clf_B , X_train_100, y_train_100)\n",
    "# predict_labels(clf_B , X_test_100, y_test_100)\n",
    "# train_predict(clf_B , X_train_100, y_train_100, X_test_100, y_test_100)\n",
    "# print '\\n'\n",
    "\n",
    "# train_classifier(clf_B , X_train_200, y_train_200)\n",
    "# predict_labels(clf_B , X_test_200, y_test_200)\n",
    "# train_predict(clf_B , X_train_200, y_train_200, X_test_200, y_test_200)\n",
    "# print '\\n'\n",
    "\n",
    "# train_classifier(clf_B , X_train_300, y_train_300)\n",
    "# predict_labels(clf_B , X_test_300, y_test_300)\n",
    "# train_predict(clf_B , X_train_300, y_train_300, X_test_300, y_test_300)\n",
    "\n",
    "# print '\\n\\n'\n",
    "# train_classifier(clf_C , X_train_100, y_train_100)\n",
    "# predict_labels(clf_C , X_test_100, y_test_100)\n",
    "# train_predict(clf_C , X_train_100, y_train_100, X_test_100, y_test_100)\n",
    "# print '\\n'\n",
    "\n",
    "# train_classifier(clf_C , X_train_200, y_train_200)\n",
    "# predict_labels(clf_C , X_test_200, y_test_200)\n",
    "# train_predict(clf_C , X_train_200, y_train_200, X_test_200, y_test_200)\n",
    "# print '\\n'\n",
    "\n",
    "# train_classifier(clf_C , X_train_300, y_train_300)\n",
    "# predict_labels(clf_C , X_test_300, y_test_300)\n",
    "# train_predict(clf_C , X_train_300, y_train_300, X_test_300, y_test_300)\n",
    "\n",
    "clf_A = GaussianNB()\n",
    "clf_B = tree.DecisionTreeClassifier(random_state=0)\n",
    "clf_C = SVC()\n",
    "\n",
    "# loop thru models, then thru train sizes\n",
    "for clf in [clf_A, clf_B, clf_C]:\n",
    "    print \"\\n{}: \\n\".format(clf.__class__.__name__)\n",
    "    for n in [100, 200, 300]:\n",
    "        train_predict(clf, X_train[:n], y_train[:n], X_test, y_test)\n",
    "        print '-'*32\n",
    "#This code was useful, simple and short - and I will remember it!"
   ]
  },
  {
   "cell_type": "markdown",
   "metadata": {},
   "source": [
    "### Tabular Results\n",
    "Edit the cell below to see how a table can be designed in [Markdown](https://github.com/adam-p/markdown-here/wiki/Markdown-Cheatsheet#tables). You can record your results from above in the tables provided."
   ]
  },
  {
   "cell_type": "markdown",
   "metadata": {},
   "source": [
    "** Classifer 1 - Gaussian Naive Bayes**  \n",
    "\n",
    "| Training Set Size | Training Time | Prediction Time (test) | F1 Score (train) | F1 Score (test) |\n",
    "| :---------------: | :---------------------: | :--------------------: | :--------------: | :-------------: |\n",
    "| 100               |      0.0032                   |             .0009           |     .8550             |       .7481          |\n",
    "| 200               |        .0025          |              .0010         |        .8321         |     .7332            |\n",
    "| 300               |          .0027               |          .0012             |      .8088            |    .7500      |\n",
    "\n",
    "** Classifer 2 - Decision Tree Classifier?**  \n",
    "\n",
    "| Training Set Size | Training Time | Prediction Time (test) | F1 Score (train) | F1 Score (test) |\n",
    "| :---------------: | :---------------------: | :--------------------: | :--------------: | :-------------: |\n",
    "| 100               |        .0025                 |       .0003                 |  1.000                |  .6942               |\n",
    "| 200               |     .0046             |                  .0003      |         1.000         |          .7132       |\n",
    "| 300               |           .0067              |             .0005           |   1.000               |     .7167     |\n",
    "\n",
    "** Classifer 3 - SVC Support Vector Classification**  \n",
    "\n",
    "| Training Set Size | Training Time | Prediction Time (test) | F1 Score (train) | F1 Score (test) |\n",
    "| :---------------: | :---------------------: | :--------------------: | :--------------: | :-------------: |\n",
    "| 100               |          .0031               |              .0021          |       .8591   |          .7838       |\n",
    "| 200               |            .0094             |                .0069        |      .8693           |      .7755           |\n",
    "| 300               | .0193                        |                 .0158       |     .8692             |            .7586|"
   ]
  },
  {
   "cell_type": "markdown",
   "metadata": {},
   "source": [
    "## Choosing the Best Model\n",
    "In this final section, you will choose from the three supervised learning models the *best* model to use on the student data. You will then perform a grid search optimization for the model over the entire training set (`X_train` and `y_train`) by tuning at least one parameter to improve upon the untuned model's F<sub>1</sub> score. "
   ]
  },
  {
   "cell_type": "markdown",
   "metadata": {},
   "source": [
    "### Question 3 - Chosing the Best Model\n",
    "*Based on the experiments you performed earlier, in one to two paragraphs, explain to the board of supervisors what single model you chose as the best model. Which model is generally the most appropriate based on the available data, limited resources, cost, and performance?*"
   ]
  },
  {
   "cell_type": "markdown",
   "metadata": {},
   "source": [
    "**Answer: ** \n",
    "After testing all 3 models, one should choose the support vector classifier as the best model. The testing f1 scores were the highest for SVC compared to the other two models. When training data is limited, support vectors classifiers also performed better in comparison to the other two models. Although the most expensive model was support vector classification. Furthermore it's been realized that the SVM is the most expensive in time vs cost. Therefore the small dataset makes computational cost less relevant. In a separate situation, one could choose a model based on limited data, resources, cost and peroformance. In this situation the decision tree classifier would be the best."
   ]
  },
  {
   "cell_type": "markdown",
   "metadata": {},
   "source": [
    "### Question 4 - Model in Layman's Terms\n",
    "*In one to two paragraphs, explain to the board of directors in layman's terms how the final model chosen is supposed to work. For example if you've chosen to use a decision tree or a support vector machine, how does the model go about making a prediction?*"
   ]
  },
  {
   "cell_type": "markdown",
   "metadata": {},
   "source": [
    "**Answer: ** \n",
    ">The final chosen model was the support vector classifier. The classifier is named because it separates the data to corresponding classes or outputs. Furthermore when the data is separated, the distance between the separation of classes is referred to as margins. The algorithm selects the best line that separates the two classes. The best line not only separates the two classes, but also has the highest margins, being as far as possible from the classes but still in between. This is easier to visualize with two dimensions, but is applicable to a feature set with more. It is also important to note, that different kernels could be applied and one can use more than just lines, such as a rbf or polynomial kernels. \n",
    ">\n",
    ">For example a student would represent one data point if we're looking at a 2 dimensional plane representing a 2 dimensional feature set. If we have many students in this plot, students who need intervention would be closer together, and students who don't need intervention would in a different location in the plot and close to other similar points. These two different locations could be separated by a line. The svm / svc algorithm would find a line with the correct slope and y intercept so that these two locations are separated by a classifier line as close as to the middle as possible. Furthermore if a new point is introduced to this model, it would use the location of the new point and the line to classify whether a student is needing intervention or not. More specifically it will classify according to previous data points on that side of the line. "
   ]
  },
  {
   "cell_type": "markdown",
   "metadata": {},
   "source": [
    "### Implementation: Model Tuning\n",
    "Fine tune the chosen model. Use grid search (`GridSearchCV`) with at least one important parameter tuned with at least 3 different values. You will need to use the entire training set for this. In the code cell below, you will need to implement the following:\n",
    "- Import [`sklearn.grid_search.gridSearchCV`](http://scikit-learn.org/stable/modules/generated/sklearn.grid_search.GridSearchCV.html) and [`sklearn.metrics.make_scorer`](http://scikit-learn.org/stable/modules/generated/sklearn.metrics.make_scorer.html).\n",
    "- Create a dictionary of parameters you wish to tune for the chosen model.\n",
    " - Example: `parameters = {'parameter' : [list of values]}`.\n",
    "- Initialize the classifier you've chosen and store it in `clf`.\n",
    "- Create the F<sub>1</sub> scoring function using `make_scorer` and store it in `f1_scorer`.\n",
    " - Set the `pos_label` parameter to the correct value!\n",
    "- Perform grid search on the classifier `clf` using `f1_scorer` as the scoring method, and store it in `grid_obj`.\n",
    "- Fit the grid search object to the training data (`X_train`, `y_train`), and store it in `grid_obj`."
   ]
  },
  {
   "cell_type": "code",
   "execution_count": 8,
   "metadata": {
    "collapsed": false
   },
   "outputs": [
    {
     "name": "stdout",
     "output_type": "stream",
     "text": [
      "SVC(C=1, cache_size=200, class_weight=None, coef0=0.0,\n",
      "  decision_function_shape=None, degree=3, gamma=0.05, kernel='rbf',\n",
      "  max_iter=-1, probability=False, random_state=None, shrinking=True,\n",
      "  tol=0.001, verbose=False)\n",
      "Made predictions in 0.0167 seconds.\n",
      "\n",
      "Tuned model has a training F1 score of 0.9196.\n",
      "Made predictions in 0.0052 seconds.\n",
      "Tuned model has a testing F1 score of 0.7917.\n"
     ]
    }
   ],
   "source": [
    "# TODO: Import 'GridSearchCV' and 'make_scorer'\n",
    "from sklearn import svm, grid_search, datasets\n",
    "from sklearn.metrics import f1_score, make_scorer\n",
    "\n",
    "# TODO: Create the parameters list you wish to tune\n",
    "parameters = {'kernel':('linear', 'rbf'), 'C':[1, 10, 100], 'gamma':[.05, .02, .01, .2, .1]}\n",
    "\n",
    "# TODO: Initialize the classifier\n",
    "svr = svm.SVC()\n",
    "\n",
    "# TODO: Make an f1 scoring function using 'make_scorer' \n",
    "f1_scorer = make_scorer(f1_score,pos_label='yes')\n",
    "\n",
    "# TODO: Perform grid search on the classifier using the f1_scorer as the scoring method\n",
    "grid_obj = grid_search.GridSearchCV(svr,parameters, f1_scorer)\n",
    "\n",
    "# TODO: Fit the grid search object to the training data and find the optimal parameters\n",
    "grid_obj = grid_obj.fit(X_train, y_train)\n",
    "\n",
    "# Get the estimator\n",
    "clf = grid_obj.best_estimator_\n",
    "print grid_obj.best_estimator_ \n",
    "# Report the final F1 score for training and testing after parameter tuning\n",
    "print \"\\nTuned model has a training F1 score of {:.4f}.\".format(predict_labels(clf, X_train, y_train))\n",
    "print \"Tuned model has a testing F1 score of {:.4f}.\".format(predict_labels(clf, X_test, y_test))"
   ]
  },
  {
   "cell_type": "markdown",
   "metadata": {},
   "source": [
    "### Question 5 - Final F<sub>1</sub> Score\n",
    "*What is the final model's F<sub>1</sub> score for training and testing? How does that score compare to the untuned model?*"
   ]
  },
  {
   "cell_type": "markdown",
   "metadata": {},
   "source": [
    "**Answer: ** The tuned model has a training F1 score of 0.8692 and made predictions in 0.0046 seconds. The tuned model has a testing F1 score of 0.7917. The untuned scores were lower because not all parameters have been tested. More specifically the gridsearch algorithm did an exhaustive search looking for lower error rates when training and testing. This kept the initial untuned f1 training score around the same at .87 but increased f1 testing score from around .77 to .8169."
   ]
  },
  {
   "cell_type": "markdown",
   "metadata": {},
   "source": [
    "> **Note**: Once you have completed all of the code implementations and successfully answered each question above, you may finalize your work by exporting the iPython Notebook as an HTML document. You can do this by using the menu above and navigating to  \n",
    "**File -> Download as -> HTML (.html)**. Include the finished document along with this notebook as your submission."
   ]
  }
 ],
 "metadata": {
  "kernelspec": {
   "display_name": "Python 2",
   "language": "python",
   "name": "python2"
  },
  "language_info": {
   "codemirror_mode": {
    "name": "ipython",
    "version": 2
   },
   "file_extension": ".py",
   "mimetype": "text/x-python",
   "name": "python",
   "nbconvert_exporter": "python",
   "pygments_lexer": "ipython2",
   "version": "2.7.6"
  }
 },
 "nbformat": 4,
 "nbformat_minor": 0
}
